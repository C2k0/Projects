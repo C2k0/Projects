{
 "cells": [
  {
   "cell_type": "code",
   "execution_count": null,
   "metadata": {},
   "outputs": [],
   "source": [
    "!conda config --add channels conda-forge\n",
    "!conda config --set channel_priority strict"
   ]
  },
  {
   "cell_type": "code",
   "execution_count": null,
   "metadata": {},
   "outputs": [],
   "source": [
    "!conda install airflow"
   ]
  },
  {
   "cell_type": "code",
   "execution_count": 1,
   "metadata": {},
   "outputs": [],
   "source": [
    "#packages\n",
    "\n",
    "import os\n",
    "from pathlib import Path\n",
    "\n",
    "import csv\n",
    "import pandas as pd\n",
    "import datetime as DT #to get age value\n",
    "import matplotlib.pyplot as plt\n",
    "import numpy as np\n",
    "\n",
    "from scipy import stats\n",
    "\n",
    "#regression\n",
    "from sklearn.linear_model import LogisticRegression\n",
    "from sklearn.model_selection import train_test_split\n",
    "from sklearn import metrics\n",
    "from sklearn.metrics import confusion_matrix\n",
    "\n",
    "PATH = str(Path(os.getcwd()).parent)\n"
   ]
  },
  {
   "cell_type": "code",
   "execution_count": 2,
   "metadata": {},
   "outputs": [
    {
     "data": {
      "text/plain": [
       "str"
      ]
     },
     "execution_count": 2,
     "metadata": {},
     "output_type": "execute_result"
    }
   ],
   "source": [
    "type(PATH)"
   ]
  },
  {
   "cell_type": "code",
   "execution_count": 3,
   "metadata": {},
   "outputs": [],
   "source": [
    "#read in data\n",
    "#neighorhoods\n",
    "data1 = pd.read_csv(PATH+\"/Data/Neighborhood_zhvi_uc_sfrcondo_tier_0.33_0.67_sm_sa_mon.csv\")\n"
   ]
  },
  {
   "cell_type": "code",
   "execution_count": 4,
   "metadata": {},
   "outputs": [
    {
     "data": {
      "text/html": [
       "<div>\n",
       "<style scoped>\n",
       "    .dataframe tbody tr th:only-of-type {\n",
       "        vertical-align: middle;\n",
       "    }\n",
       "\n",
       "    .dataframe tbody tr th {\n",
       "        vertical-align: top;\n",
       "    }\n",
       "\n",
       "    .dataframe thead th {\n",
       "        text-align: right;\n",
       "    }\n",
       "</style>\n",
       "<table border=\"1\" class=\"dataframe\">\n",
       "  <thead>\n",
       "    <tr style=\"text-align: right;\">\n",
       "      <th></th>\n",
       "      <th>RegionID</th>\n",
       "      <th>SizeRank</th>\n",
       "      <th>RegionName</th>\n",
       "      <th>RegionType</th>\n",
       "      <th>StateName</th>\n",
       "      <th>State</th>\n",
       "      <th>City</th>\n",
       "      <th>Metro</th>\n",
       "      <th>CountyName</th>\n",
       "      <th>1996-01-31</th>\n",
       "      <th>...</th>\n",
       "      <th>2019-12-31</th>\n",
       "      <th>2020-01-31</th>\n",
       "      <th>2020-02-29</th>\n",
       "      <th>2020-03-31</th>\n",
       "      <th>2020-04-30</th>\n",
       "      <th>2020-05-31</th>\n",
       "      <th>2020-06-30</th>\n",
       "      <th>2020-07-31</th>\n",
       "      <th>2020-08-31</th>\n",
       "      <th>2020-09-30</th>\n",
       "    </tr>\n",
       "  </thead>\n",
       "  <tbody>\n",
       "    <tr>\n",
       "      <th>0</th>\n",
       "      <td>274772</td>\n",
       "      <td>0</td>\n",
       "      <td>Northeast Dallas</td>\n",
       "      <td>Neighborhood</td>\n",
       "      <td>TX</td>\n",
       "      <td>TX</td>\n",
       "      <td>Dallas</td>\n",
       "      <td>Dallas-Fort Worth-Arlington</td>\n",
       "      <td>Dallas County</td>\n",
       "      <td>133957.0</td>\n",
       "      <td>...</td>\n",
       "      <td>329919.0</td>\n",
       "      <td>329699.0</td>\n",
       "      <td>329320.0</td>\n",
       "      <td>329442.0</td>\n",
       "      <td>330733.0</td>\n",
       "      <td>332540.0</td>\n",
       "      <td>334662.0</td>\n",
       "      <td>336913.0</td>\n",
       "      <td>338800.0</td>\n",
       "      <td>341125.0</td>\n",
       "    </tr>\n",
       "    <tr>\n",
       "      <th>1</th>\n",
       "      <td>112345</td>\n",
       "      <td>1</td>\n",
       "      <td>Maryvale</td>\n",
       "      <td>Neighborhood</td>\n",
       "      <td>AZ</td>\n",
       "      <td>AZ</td>\n",
       "      <td>Phoenix</td>\n",
       "      <td>Phoenix-Mesa-Scottsdale</td>\n",
       "      <td>Maricopa County</td>\n",
       "      <td>NaN</td>\n",
       "      <td>...</td>\n",
       "      <td>190873.0</td>\n",
       "      <td>192848.0</td>\n",
       "      <td>194789.0</td>\n",
       "      <td>197094.0</td>\n",
       "      <td>199738.0</td>\n",
       "      <td>202351.0</td>\n",
       "      <td>204756.0</td>\n",
       "      <td>207493.0</td>\n",
       "      <td>210739.0</td>\n",
       "      <td>214674.0</td>\n",
       "    </tr>\n",
       "    <tr>\n",
       "      <th>2</th>\n",
       "      <td>192689</td>\n",
       "      <td>2</td>\n",
       "      <td>Paradise</td>\n",
       "      <td>Neighborhood</td>\n",
       "      <td>NV</td>\n",
       "      <td>NV</td>\n",
       "      <td>Las Vegas</td>\n",
       "      <td>Las Vegas-Henderson-Paradise</td>\n",
       "      <td>Clark County</td>\n",
       "      <td>135858.0</td>\n",
       "      <td>...</td>\n",
       "      <td>260933.0</td>\n",
       "      <td>261867.0</td>\n",
       "      <td>262567.0</td>\n",
       "      <td>264458.0</td>\n",
       "      <td>266139.0</td>\n",
       "      <td>267250.0</td>\n",
       "      <td>267744.0</td>\n",
       "      <td>269076.0</td>\n",
       "      <td>271727.0</td>\n",
       "      <td>275313.0</td>\n",
       "    </tr>\n",
       "    <tr>\n",
       "      <th>3</th>\n",
       "      <td>270958</td>\n",
       "      <td>3</td>\n",
       "      <td>Upper West Side</td>\n",
       "      <td>Neighborhood</td>\n",
       "      <td>NY</td>\n",
       "      <td>NY</td>\n",
       "      <td>New York</td>\n",
       "      <td>New York-Newark-Jersey City</td>\n",
       "      <td>New York County</td>\n",
       "      <td>226951.0</td>\n",
       "      <td>...</td>\n",
       "      <td>1121653.0</td>\n",
       "      <td>1121390.0</td>\n",
       "      <td>1116455.0</td>\n",
       "      <td>1106338.0</td>\n",
       "      <td>1106268.0</td>\n",
       "      <td>1105694.0</td>\n",
       "      <td>1105580.0</td>\n",
       "      <td>1111979.0</td>\n",
       "      <td>1118736.0</td>\n",
       "      <td>1126443.0</td>\n",
       "    </tr>\n",
       "    <tr>\n",
       "      <th>4</th>\n",
       "      <td>118208</td>\n",
       "      <td>4</td>\n",
       "      <td>South Los Angeles</td>\n",
       "      <td>Neighborhood</td>\n",
       "      <td>CA</td>\n",
       "      <td>CA</td>\n",
       "      <td>Los Angeles</td>\n",
       "      <td>Los Angeles-Long Beach-Anaheim</td>\n",
       "      <td>Los Angeles County</td>\n",
       "      <td>133922.0</td>\n",
       "      <td>...</td>\n",
       "      <td>518675.0</td>\n",
       "      <td>522589.0</td>\n",
       "      <td>527759.0</td>\n",
       "      <td>533182.0</td>\n",
       "      <td>537938.0</td>\n",
       "      <td>540725.0</td>\n",
       "      <td>544009.0</td>\n",
       "      <td>549893.0</td>\n",
       "      <td>558240.0</td>\n",
       "      <td>567059.0</td>\n",
       "    </tr>\n",
       "  </tbody>\n",
       "</table>\n",
       "<p>5 rows × 306 columns</p>\n",
       "</div>"
      ],
      "text/plain": [
       "   RegionID  SizeRank         RegionName    RegionType StateName State  \\\n",
       "0    274772         0   Northeast Dallas  Neighborhood        TX    TX   \n",
       "1    112345         1           Maryvale  Neighborhood        AZ    AZ   \n",
       "2    192689         2           Paradise  Neighborhood        NV    NV   \n",
       "3    270958         3    Upper West Side  Neighborhood        NY    NY   \n",
       "4    118208         4  South Los Angeles  Neighborhood        CA    CA   \n",
       "\n",
       "          City                           Metro          CountyName  \\\n",
       "0       Dallas     Dallas-Fort Worth-Arlington       Dallas County   \n",
       "1      Phoenix         Phoenix-Mesa-Scottsdale     Maricopa County   \n",
       "2    Las Vegas    Las Vegas-Henderson-Paradise        Clark County   \n",
       "3     New York     New York-Newark-Jersey City     New York County   \n",
       "4  Los Angeles  Los Angeles-Long Beach-Anaheim  Los Angeles County   \n",
       "\n",
       "   1996-01-31  ...  2019-12-31  2020-01-31  2020-02-29  2020-03-31  \\\n",
       "0    133957.0  ...    329919.0    329699.0    329320.0    329442.0   \n",
       "1         NaN  ...    190873.0    192848.0    194789.0    197094.0   \n",
       "2    135858.0  ...    260933.0    261867.0    262567.0    264458.0   \n",
       "3    226951.0  ...   1121653.0   1121390.0   1116455.0   1106338.0   \n",
       "4    133922.0  ...    518675.0    522589.0    527759.0    533182.0   \n",
       "\n",
       "   2020-04-30  2020-05-31  2020-06-30  2020-07-31  2020-08-31  2020-09-30  \n",
       "0    330733.0    332540.0    334662.0    336913.0    338800.0    341125.0  \n",
       "1    199738.0    202351.0    204756.0    207493.0    210739.0    214674.0  \n",
       "2    266139.0    267250.0    267744.0    269076.0    271727.0    275313.0  \n",
       "3   1106268.0   1105694.0   1105580.0   1111979.0   1118736.0   1126443.0  \n",
       "4    537938.0    540725.0    544009.0    549893.0    558240.0    567059.0  \n",
       "\n",
       "[5 rows x 306 columns]"
      ]
     },
     "execution_count": 4,
     "metadata": {},
     "output_type": "execute_result"
    }
   ],
   "source": [
    "data1.head()"
   ]
  },
  {
   "cell_type": "code",
   "execution_count": 5,
   "metadata": {},
   "outputs": [
    {
     "data": {
      "text/plain": [
       "Index(['RegionID', 'SizeRank', 'RegionName', 'RegionType', 'StateName',\n",
       "       'State', 'City', 'Metro', 'CountyName', '1996-01-31',\n",
       "       ...\n",
       "       '2019-12-31', '2020-01-31', '2020-02-29', '2020-03-31', '2020-04-30',\n",
       "       '2020-05-31', '2020-06-30', '2020-07-31', '2020-08-31', '2020-09-30'],\n",
       "      dtype='object', length=306)"
      ]
     },
     "execution_count": 5,
     "metadata": {},
     "output_type": "execute_result"
    }
   ],
   "source": [
    "data1.columns"
   ]
  },
  {
   "cell_type": "code",
   "execution_count": 7,
   "metadata": {},
   "outputs": [
    {
     "data": {
      "image/png": "[encoded data removed]",
      "text/plain": [
       "<Figure size 432x288 with 1 Axes>"
      ]
     },
     "metadata": {
      "needs_background": "light"
     },
     "output_type": "display_data"
    }
   ],
   "source": [
    "plt.plot(data1.iloc[0,9:])\n",
    "plt.show()"
   ]
  },
  {
   "cell_type": "code",
   "execution_count": 11,
   "metadata": {},
   "outputs": [],
   "source": [
    "zhvi_zipcodes = pd.read_csv(PATH+\"/Data/Zip_zhvi_uc_sfrcondo_tier_0.33_0.67_sm_sa_mon.csv\")"
   ]
  },
  {
   "cell_type": "code",
   "execution_count": 12,
   "metadata": {},
   "outputs": [
    {
     "name": "stdout",
     "output_type": "stream",
     "text": [
      "   RegionID  SizeRank  RegionName RegionType StateName State      City  \\\n",
      "0     61639         0       10025        Zip        NY    NY  New York   \n",
      "1     84654         1       60657        Zip        IL    IL   Chicago   \n",
      "2     61637         2       10023        Zip        NY    NY  New York   \n",
      "3     91982         3       77494        Zip        TX    TX      Katy   \n",
      "4     84616         4       60614        Zip        IL    IL   Chicago   \n",
      "\n",
      "                              Metro       CountyName  1996-01-31  ...  \\\n",
      "0       New York-Newark-Jersey City  New York County    223469.0  ...   \n",
      "1          Chicago-Naperville-Elgin      Cook County    205864.0  ...   \n",
      "2       New York-Newark-Jersey City  New York County    227596.0  ...   \n",
      "3  Houston-The Woodlands-Sugar Land    Harris County    202808.0  ...   \n",
      "4          Chicago-Naperville-Elgin      Cook County    276752.0  ...   \n",
      "\n",
      "   2020-01-31  2020-02-29  2020-03-31  2020-04-30  2020-05-31  2020-06-30  \\\n",
      "0   1152491.0   1129471.0   1101051.0   1088618.0   1078931.0   1075287.0   \n",
      "1    476938.0    478070.0    479687.0    480848.0    481240.0    481907.0   \n",
      "2   1105727.0   1118319.0   1118234.0   1126375.0   1129930.0   1132927.0   \n",
      "3    339589.0    339794.0    340299.0    341466.0    342543.0    343323.0   \n",
      "4    619001.0    619244.0    619927.0    619687.0    619649.0    619916.0   \n",
      "\n",
      "   2020-07-31  2020-08-31  2020-09-30  2020-10-31  \n",
      "0   1072738.0   1072625.0   1075648.0   1073416.0  \n",
      "1    483484.0    485902.0    489188.0    492585.0  \n",
      "2   1133142.0   1136998.0   1149940.0   1152889.0  \n",
      "3    343861.0    344957.0    346034.0    347871.0  \n",
      "4    621376.0    623279.0    626620.0    629989.0  \n",
      "\n",
      "[5 rows x 307 columns]\n",
      "Index(['RegionID', 'SizeRank', 'RegionName', 'RegionType', 'StateName',\n",
      "       'State', 'City', 'Metro', 'CountyName', '1996-01-31',\n",
      "       ...\n",
      "       '2020-01-31', '2020-02-29', '2020-03-31', '2020-04-30', '2020-05-31',\n",
      "       '2020-06-30', '2020-07-31', '2020-08-31', '2020-09-30', '2020-10-31'],\n",
      "      dtype='object', length=307)\n"
     ]
    }
   ],
   "source": [
    "print(zhvi_zipcodes.head())\n",
    "print(zhvi_zipcodes.columns)"
   ]
  },
  {
   "cell_type": "code",
   "execution_count": 13,
   "metadata": {},
   "outputs": [
    {
     "data": {
      "image/png": "[encoded data removed]",
      "text/plain": [
       "<Figure size 432x288 with 1 Axes>"
      ]
     },
     "metadata": {
      "needs_background": "light"
     },
     "output_type": "display_data"
    }
   ],
   "source": [
    "plt.plot(zhvi_zipcodes.iloc[0,9:])\n",
    "plt.show()"
   ]
  },
  {
   "cell_type": "code",
   "execution_count": null,
   "metadata": {},
   "outputs": [],
   "source": [
    "np.percentile(freq_visited_data.h1_r1,50)"
   ]
  },
  {
   "cell_type": "code",
   "execution_count": null,
   "metadata": {},
   "outputs": [],
   "source": [
    "grindhouse_visitors.head()"
   ]
  },
  {
   "cell_type": "code",
   "execution_count": null,
   "metadata": {},
   "outputs": [],
   "source": [
    "grindhouse_visitors.venue_name.unique()"
   ]
  },
  {
   "cell_type": "code",
   "execution_count": null,
   "metadata": {},
   "outputs": [],
   "source": [
    "all_visitors.head()"
   ]
  },
  {
   "cell_type": "code",
   "execution_count": null,
   "metadata": {},
   "outputs": [],
   "source": [
    "grindhouse_visitors.shape"
   ]
  },
  {
   "cell_type": "code",
   "execution_count": null,
   "metadata": {},
   "outputs": [],
   "source": [
    "grindhouse_visitors.columns"
   ]
  },
  {
   "cell_type": "code",
   "execution_count": null,
   "metadata": {},
   "outputs": [],
   "source": [
    "all_visitors.shape"
   ]
  },
  {
   "cell_type": "code",
   "execution_count": null,
   "metadata": {},
   "outputs": [],
   "source": [
    "all_visitors.columns"
   ]
  },
  {
   "cell_type": "code",
   "execution_count": null,
   "metadata": {},
   "outputs": [],
   "source": [
    "grindhouse_maids=grindhouse_visitors.maid.unique()\n",
    "grindhouse_maids.shape"
   ]
  },
  {
   "cell_type": "code",
   "execution_count": null,
   "metadata": {},
   "outputs": [],
   "source": [
    "type(grindhouse_maids)"
   ]
  },
  {
   "cell_type": "code",
   "execution_count": null,
   "metadata": {},
   "outputs": [],
   "source": [
    "all_visitors['matched']=np.where(df.maid ==)"
   ]
  },
  {
   "cell_type": "code",
   "execution_count": null,
   "metadata": {},
   "outputs": [],
   "source": [
    "grindhouse_POI = all_visitors[all_visitors['maid'].isin(grindhouse_maids)].copy()"
   ]
  },
  {
   "cell_type": "code",
   "execution_count": null,
   "metadata": {},
   "outputs": [],
   "source": [
    "grindhouse_POI.shape"
   ]
  },
  {
   "cell_type": "code",
   "execution_count": null,
   "metadata": {},
   "outputs": [],
   "source": [
    "grindhouse_POI.maid.nunique()"
   ]
  },
  {
   "cell_type": "markdown",
   "metadata": {},
   "source": [
    "# ^ 2136 maids to work with, and our dataset is __"
   ]
  },
  {
   "cell_type": "code",
   "execution_count": null,
   "metadata": {},
   "outputs": [],
   "source": [
    "maid_observation_counts = grindhouse_POI.maid.value_counts()\n",
    "maid_observation_counts.to_csv('maid_observation_counts.csv')\n",
    "maid_observation_counts.head()"
   ]
  },
  {
   "cell_type": "code",
   "execution_count": null,
   "metadata": {},
   "outputs": [],
   "source": [
    "np.percentile(maid_observation_counts.values,75)"
   ]
  },
  {
   "cell_type": "code",
   "execution_count": null,
   "metadata": {},
   "outputs": [],
   "source": [
    "stats.describe(maid_observation_counts.values)"
   ]
  },
  {
   "cell_type": "code",
   "execution_count": null,
   "metadata": {},
   "outputs": [],
   "source": [
    "grindhouse_maids.shape"
   ]
  },
  {
   "cell_type": "code",
   "execution_count": null,
   "metadata": {},
   "outputs": [],
   "source": [
    "all_visitors_maids = all_visitors.maid.unique()\n",
    "all_visitors_maids.shape"
   ]
  },
  {
   "cell_type": "code",
   "execution_count": null,
   "metadata": {},
   "outputs": [],
   "source": []
  },
  {
   "cell_type": "code",
   "execution_count": null,
   "metadata": {},
   "outputs": [],
   "source": [
    "#all_visitors_maids = all_visitors.maid.unique().reshape((1,-1))\n",
    "#grindhouse_maids.reshape((1,-1))\n",
    "check1 = np.concatenate((grindhouse_maids,all_visitors_maids))"
   ]
  },
  {
   "cell_type": "code",
   "execution_count": null,
   "metadata": {},
   "outputs": [],
   "source": [
    "np.unique(check1).size\n",
    "#This should be equal to grindhouse_POI.maid.nunique() ---which is 2136"
   ]
  },
  {
   "cell_type": "code",
   "execution_count": null,
   "metadata": {},
   "outputs": [],
   "source": [
    "grindhouse_POI[['cat1','cat2','cat3']] = grindhouse_POI.poi_categories.str.split(\":\",n=2,expand=True)"
   ]
  },
  {
   "cell_type": "code",
   "execution_count": null,
   "metadata": {},
   "outputs": [],
   "source": [
    "cat1_counts = grindhouse_POI.cat1.value_counts()"
   ]
  },
  {
   "cell_type": "code",
   "execution_count": null,
   "metadata": {},
   "outputs": [],
   "source": [
    "cat1_counts"
   ]
  },
  {
   "cell_type": "code",
   "execution_count": null,
   "metadata": {},
   "outputs": [],
   "source": [
    "type(cat1_counts)"
   ]
  },
  {
   "cell_type": "code",
   "execution_count": null,
   "metadata": {},
   "outputs": [],
   "source": [
    "cat1_counts.to_csv('cat1_counts.csv')"
   ]
  },
  {
   "cell_type": "code",
   "execution_count": null,
   "metadata": {},
   "outputs": [],
   "source": [
    "plt.scatter(cat1_counts.values, cat1_counts.index, alpha=0.9)\n",
    "\n",
    "plt.rcParams[\"figure.figsize\"] = [10,20]\n",
    "plt.gca().invert_yaxis()\n",
    "\n",
    "plt.savefig('plot2.png',dpi=100)"
   ]
  },
  {
   "cell_type": "code",
   "execution_count": null,
   "metadata": {},
   "outputs": [],
   "source": [
    "cat2items=grindhouse_POI[grindhouse_POI['cat1']=='restaurants']['cat2']"
   ]
  },
  {
   "cell_type": "code",
   "execution_count": null,
   "metadata": {},
   "outputs": [],
   "source": [
    "cat2counts = cat2items.value_counts()\n",
    "cat2counts.to_csv('cat2_counts.csv')"
   ]
  },
  {
   "cell_type": "code",
   "execution_count": null,
   "metadata": {},
   "outputs": [],
   "source": [
    "plt.scatter(cat2counts.values, cat2counts.index, alpha=0.9)\n",
    "\n",
    "plt.rcParams[\"figure.figsize\"] = [10,20]\n",
    "plt.gca().invert_yaxis()\n",
    "\n",
    "plt.savefig('plot3.png',dpi=100)"
   ]
  },
  {
   "cell_type": "code",
   "execution_count": null,
   "metadata": {},
   "outputs": [],
   "source": [
    "cat2items[33]"
   ]
  },
  {
   "cell_type": "code",
   "execution_count": null,
   "metadata": {},
   "outputs": [],
   "source": []
  }
 ],
 "metadata": {
  "kernelspec": {
   "display_name": "Python 3",
   "language": "python",
   "name": "python3"
  },
  "language_info": {
   "codemirror_mode": {
    "name": "ipython",
    "version": 3
   },
   "file_extension": ".py",
   "mimetype": "text/x-python",
   "name": "python",
   "nbconvert_exporter": "python",
   "pygments_lexer": "ipython3",
   "version": "3.7.3"
  }
 },
 "nbformat": 4,
 "nbformat_minor": 2
}
