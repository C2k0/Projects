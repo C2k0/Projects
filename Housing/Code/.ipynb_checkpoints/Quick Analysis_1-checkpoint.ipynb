{
 "cells": [
  {
   "cell_type": "code",
   "execution_count": 1,
   "metadata": {},
   "outputs": [],
   "source": [
    "#packages\n",
    "\n",
    "import os\n",
    "import csv\n",
    "import pandas as pd\n",
    "import datetime as DT #to get age value\n",
    "import matplotlib.pyplot as plt\n",
    "import numpy as np\n",
    "\n",
    "from scipy import stats\n",
    "\n",
    "#regression\n",
    "from sklearn.linear_model import LogisticRegression\n",
    "from sklearn.model_selection import train_test_split\n",
    "from sklearn import metrics\n",
    "from sklearn.metrics import confusion_matrix\n",
    "\n",
    "PATH = \"C:\\\\Users\\\\kinka\\\\Desktop\\\\Practicum-Work1\\\\Data\\\\\"\n"
   ]
  },
  {
   "cell_type": "code",
   "execution_count": 2,
   "metadata": {},
   "outputs": [
    {
     "data": {
      "text/plain": [
       "'C:\\\\Users\\\\kinka\\\\Desktop\\\\Projects\\\\Housing\\\\Code'"
      ]
     },
     "execution_count": 2,
     "metadata": {},
     "output_type": "execute_result"
    }
   ],
   "source": [
    "os.getcwd()"
   ]
  },
  {
   "cell_type": "code",
   "execution_count": 13,
   "metadata": {},
   "outputs": [],
   "source": [
    "#read in 2 POI datasets\n",
    "grindhouse_visitors = pd.read_csv(PATH+\"poi_v2.csv\")\n",
    "all_visitors = pd.read_csv(PATH+\"poi_v3.csv\")"
   ]
  },
  {
   "cell_type": "code",
   "execution_count": 14,
   "metadata": {},
   "outputs": [],
   "source": [
    "#read in dataset with h1h2 frequently visited locations\n",
    "freq_visited_data = pd.read_csv(PATH+\"member_location_features.csv\")\n",
    "#r1_gh7 ,r2_gh7,r3_gh7,r4_gh7,r5_gh7 - Geohash for top 5 restaurants visited by MAID\n",
    "#h1_r1 ,h1_r2,h1_r3,h1_r4,h1_r5 - Represents distance between h1 and each of the 5 geohash in meters. and similarly for h2 as well\n",
    "#h1_loc1 or h2_loc1 -  the distance between h1/h2 and location of restaurant in meters\n",
    "#Unique MAIDs = 12229"
   ]
  },
  {
   "cell_type": "code",
   "execution_count": 15,
   "metadata": {},
   "outputs": [
    {
     "data": {
      "text/html": [
       "<div>\n",
       "<style scoped>\n",
       "    .dataframe tbody tr th:only-of-type {\n",
       "        vertical-align: middle;\n",
       "    }\n",
       "\n",
       "    .dataframe tbody tr th {\n",
       "        vertical-align: top;\n",
       "    }\n",
       "\n",
       "    .dataframe thead th {\n",
       "        text-align: right;\n",
       "    }\n",
       "</style>\n",
       "<table border=\"1\" class=\"dataframe\">\n",
       "  <thead>\n",
       "    <tr style=\"text-align: right;\">\n",
       "      <th></th>\n",
       "      <th>Unnamed: 0</th>\n",
       "      <th>maid</th>\n",
       "      <th>r1_gh7</th>\n",
       "      <th>r2_gh7</th>\n",
       "      <th>r3_gh7</th>\n",
       "      <th>r4_gh7</th>\n",
       "      <th>r5_gh7</th>\n",
       "      <th>hd1_gh7</th>\n",
       "      <th>hd2_gh7</th>\n",
       "      <th>h1_r1</th>\n",
       "      <th>...</th>\n",
       "      <th>h1_loc3</th>\n",
       "      <th>h1_loc4</th>\n",
       "      <th>h2_loc1</th>\n",
       "      <th>h2_loc2</th>\n",
       "      <th>h2_loc3</th>\n",
       "      <th>h2_loc4</th>\n",
       "      <th>avg_h1_top5</th>\n",
       "      <th>avg_h2_top5</th>\n",
       "      <th>avg_h1_rest_loc</th>\n",
       "      <th>avg_h2_rest_loc</th>\n",
       "    </tr>\n",
       "  </thead>\n",
       "  <tbody>\n",
       "    <tr>\n",
       "      <th>0</th>\n",
       "      <td>0</td>\n",
       "      <td>0003e3d1-91c2-4903-ac2d-a3e177854782</td>\n",
       "      <td>dnh1jmw</td>\n",
       "      <td>dnh01u1</td>\n",
       "      <td>dn5bpd7</td>\n",
       "      <td>dnh0095</td>\n",
       "      <td>djgzrb6</td>\n",
       "      <td>dnh011m</td>\n",
       "      <td>dnh0162</td>\n",
       "      <td>27763.549215</td>\n",
       "      <td>...</td>\n",
       "      <td>3861.551379</td>\n",
       "      <td>7229.331745</td>\n",
       "      <td>2157.410618</td>\n",
       "      <td>5657.341551</td>\n",
       "      <td>3861.551379</td>\n",
       "      <td>7229.331745</td>\n",
       "      <td>11138.567823</td>\n",
       "      <td>11138.567823</td>\n",
       "      <td>4726.408823</td>\n",
       "      <td>4726.408823</td>\n",
       "    </tr>\n",
       "    <tr>\n",
       "      <th>1</th>\n",
       "      <td>1</td>\n",
       "      <td>000aea63-b203-45fb-8ff0-1623f1a6faed</td>\n",
       "      <td>dnh0vgu</td>\n",
       "      <td>dnh0z0s</td>\n",
       "      <td>dnh30r3</td>\n",
       "      <td>dnh1pns</td>\n",
       "      <td>dnh1pm5</td>\n",
       "      <td>dnh1pe5</td>\n",
       "      <td>dnh1peh</td>\n",
       "      <td>8618.160020</td>\n",
       "      <td>...</td>\n",
       "      <td>36327.948174</td>\n",
       "      <td>33721.092510</td>\n",
       "      <td>30557.380415</td>\n",
       "      <td>37845.770321</td>\n",
       "      <td>36327.948174</td>\n",
       "      <td>33721.092510</td>\n",
       "      <td>4628.900559</td>\n",
       "      <td>4628.900559</td>\n",
       "      <td>34613.047855</td>\n",
       "      <td>34613.047855</td>\n",
       "    </tr>\n",
       "    <tr>\n",
       "      <th>2</th>\n",
       "      <td>2</td>\n",
       "      <td>000cb813-706c-4bc1-829e-e7c91df42cd6</td>\n",
       "      <td>djgzrd4</td>\n",
       "      <td>djgzmnf</td>\n",
       "      <td>djgzkyw</td>\n",
       "      <td>-1</td>\n",
       "      <td>-1</td>\n",
       "      <td>djgzrd4</td>\n",
       "      <td>djgzdgf</td>\n",
       "      <td>0.000000</td>\n",
       "      <td>...</td>\n",
       "      <td>13629.013590</td>\n",
       "      <td>20100.379862</td>\n",
       "      <td>29494.326916</td>\n",
       "      <td>21786.325540</td>\n",
       "      <td>23523.378731</td>\n",
       "      <td>25713.737174</td>\n",
       "      <td>4408.451489</td>\n",
       "      <td>7740.914221</td>\n",
       "      <td>16189.676650</td>\n",
       "      <td>25129.442090</td>\n",
       "    </tr>\n",
       "    <tr>\n",
       "      <th>3</th>\n",
       "      <td>3</td>\n",
       "      <td>0014112d-5cf6-49e3-9ff8-a51c39b81639</td>\n",
       "      <td>dnh037v</td>\n",
       "      <td>dnh03kn</td>\n",
       "      <td>dnh03kq</td>\n",
       "      <td>dnh037y</td>\n",
       "      <td>dnh03kn</td>\n",
       "      <td>dnh02mg</td>\n",
       "      <td>dnh03kn</td>\n",
       "      <td>4750.677791</td>\n",
       "      <td>...</td>\n",
       "      <td>8895.594132</td>\n",
       "      <td>2408.137207</td>\n",
       "      <td>5636.016158</td>\n",
       "      <td>10121.064109</td>\n",
       "      <td>9051.938054</td>\n",
       "      <td>5653.532300</td>\n",
       "      <td>4750.677791</td>\n",
       "      <td>0.000000</td>\n",
       "      <td>7265.969685</td>\n",
       "      <td>7615.637656</td>\n",
       "    </tr>\n",
       "    <tr>\n",
       "      <th>4</th>\n",
       "      <td>4</td>\n",
       "      <td>001e821c-10d4-4f9a-af27-682d51c6ac05</td>\n",
       "      <td>dnh0bzg</td>\n",
       "      <td>dnh0602</td>\n",
       "      <td>dnh04h1</td>\n",
       "      <td>dnh0675</td>\n",
       "      <td>dnh04r9</td>\n",
       "      <td>dnh04ew</td>\n",
       "      <td>dnh04ex</td>\n",
       "      <td>19264.100726</td>\n",
       "      <td>...</td>\n",
       "      <td>9508.176595</td>\n",
       "      <td>11095.797659</td>\n",
       "      <td>4621.681596</td>\n",
       "      <td>12221.808606</td>\n",
       "      <td>10409.224608</td>\n",
       "      <td>11948.166829</td>\n",
       "      <td>6665.159389</td>\n",
       "      <td>7204.350771</td>\n",
       "      <td>8903.841915</td>\n",
       "      <td>9800.220410</td>\n",
       "    </tr>\n",
       "  </tbody>\n",
       "</table>\n",
       "<p>5 rows × 31 columns</p>\n",
       "</div>"
      ],
      "text/plain": [
       "   Unnamed: 0                                  maid   r1_gh7   r2_gh7  \\\n",
       "0           0  0003e3d1-91c2-4903-ac2d-a3e177854782  dnh1jmw  dnh01u1   \n",
       "1           1  000aea63-b203-45fb-8ff0-1623f1a6faed  dnh0vgu  dnh0z0s   \n",
       "2           2  000cb813-706c-4bc1-829e-e7c91df42cd6  djgzrd4  djgzmnf   \n",
       "3           3  0014112d-5cf6-49e3-9ff8-a51c39b81639  dnh037v  dnh03kn   \n",
       "4           4  001e821c-10d4-4f9a-af27-682d51c6ac05  dnh0bzg  dnh0602   \n",
       "\n",
       "    r3_gh7   r4_gh7   r5_gh7  hd1_gh7  hd2_gh7         h1_r1  ...  \\\n",
       "0  dn5bpd7  dnh0095  djgzrb6  dnh011m  dnh0162  27763.549215  ...   \n",
       "1  dnh30r3  dnh1pns  dnh1pm5  dnh1pe5  dnh1peh   8618.160020  ...   \n",
       "2  djgzkyw       -1       -1  djgzrd4  djgzdgf      0.000000  ...   \n",
       "3  dnh03kq  dnh037y  dnh03kn  dnh02mg  dnh03kn   4750.677791  ...   \n",
       "4  dnh04h1  dnh0675  dnh04r9  dnh04ew  dnh04ex  19264.100726  ...   \n",
       "\n",
       "        h1_loc3       h1_loc4       h2_loc1       h2_loc2       h2_loc3  \\\n",
       "0   3861.551379   7229.331745   2157.410618   5657.341551   3861.551379   \n",
       "1  36327.948174  33721.092510  30557.380415  37845.770321  36327.948174   \n",
       "2  13629.013590  20100.379862  29494.326916  21786.325540  23523.378731   \n",
       "3   8895.594132   2408.137207   5636.016158  10121.064109   9051.938054   \n",
       "4   9508.176595  11095.797659   4621.681596  12221.808606  10409.224608   \n",
       "\n",
       "        h2_loc4   avg_h1_top5   avg_h2_top5  avg_h1_rest_loc  avg_h2_rest_loc  \n",
       "0   7229.331745  11138.567823  11138.567823      4726.408823      4726.408823  \n",
       "1  33721.092510   4628.900559   4628.900559     34613.047855     34613.047855  \n",
       "2  25713.737174   4408.451489   7740.914221     16189.676650     25129.442090  \n",
       "3   5653.532300   4750.677791      0.000000      7265.969685      7615.637656  \n",
       "4  11948.166829   6665.159389   7204.350771      8903.841915      9800.220410  \n",
       "\n",
       "[5 rows x 31 columns]"
      ]
     },
     "execution_count": 15,
     "metadata": {},
     "output_type": "execute_result"
    }
   ],
   "source": [
    "freq_visited_data.head()"
   ]
  },
  {
   "cell_type": "code",
   "execution_count": 16,
   "metadata": {},
   "outputs": [
    {
     "data": {
      "text/plain": [
       "Index(['Unnamed: 0', 'maid', 'r1_gh7', 'r2_gh7', 'r3_gh7', 'r4_gh7', 'r5_gh7',\n",
       "       'hd1_gh7', 'hd2_gh7', 'h1_r1', 'h1_r2', 'h1_r3', 'h1_r4', 'h1_r5',\n",
       "       'h2_r1', 'h2_r2', 'h2_r3', 'h2_r4', 'h2_r5', 'h1_loc1', 'h1_loc2',\n",
       "       'h1_loc3', 'h1_loc4', 'h2_loc1', 'h2_loc2', 'h2_loc3', 'h2_loc4',\n",
       "       'avg_h1_top5', 'avg_h2_top5', 'avg_h1_rest_loc', 'avg_h2_rest_loc'],\n",
       "      dtype='object')"
      ]
     },
     "execution_count": 16,
     "metadata": {},
     "output_type": "execute_result"
    }
   ],
   "source": [
    "freq_visited_data.columns"
   ]
  },
  {
   "cell_type": "code",
   "execution_count": 20,
   "metadata": {},
   "outputs": [
    {
     "data": {
      "text/plain": [
       "DescribeResult(nobs=17592, minmax=(0.0, 7139332.856873215), mean=77681.86978628217, variance=91513363534.78098, skewness=8.027316251601615, kurtosis=90.38732870525001)"
      ]
     },
     "execution_count": 20,
     "metadata": {},
     "output_type": "execute_result"
    }
   ],
   "source": [
    "stats.describe(freq_visited_data.h1_r1)"
   ]
  },
  {
   "cell_type": "code",
   "execution_count": 21,
   "metadata": {},
   "outputs": [
    {
     "data": {
      "text/plain": [
       "9296.024533314903"
      ]
     },
     "execution_count": 21,
     "metadata": {},
     "output_type": "execute_result"
    }
   ],
   "source": [
    "np.percentile(freq_visited_data.h1_r1,50)"
   ]
  },
  {
   "cell_type": "code",
   "execution_count": 22,
   "metadata": {},
   "outputs": [
    {
     "data": {
      "text/html": [
       "<div>\n",
       "<style scoped>\n",
       "    .dataframe tbody tr th:only-of-type {\n",
       "        vertical-align: middle;\n",
       "    }\n",
       "\n",
       "    .dataframe tbody tr th {\n",
       "        vertical-align: top;\n",
       "    }\n",
       "\n",
       "    .dataframe thead th {\n",
       "        text-align: right;\n",
       "    }\n",
       "</style>\n",
       "<table border=\"1\" class=\"dataframe\">\n",
       "  <thead>\n",
       "    <tr style=\"text-align: right;\">\n",
       "      <th></th>\n",
       "      <th>maid</th>\n",
       "      <th>event_latitude</th>\n",
       "      <th>event_longitude</th>\n",
       "      <th>event_dwell_time</th>\n",
       "      <th>event_timestamp</th>\n",
       "      <th>event_hour</th>\n",
       "      <th>event_date</th>\n",
       "      <th>event_month</th>\n",
       "      <th>event_year</th>\n",
       "      <th>venue_id</th>\n",
       "      <th>venue_name</th>\n",
       "      <th>venue_street</th>\n",
       "      <th>venue_city</th>\n",
       "      <th>venue_state</th>\n",
       "      <th>venue_zip</th>\n",
       "    </tr>\n",
       "  </thead>\n",
       "  <tbody>\n",
       "    <tr>\n",
       "      <th>0</th>\n",
       "      <td>731529ae-9707-402b-96fe-81d5d0308a67</td>\n",
       "      <td>33.772830</td>\n",
       "      <td>-84.296380</td>\n",
       "      <td>5.866667</td>\n",
       "      <td>2019-09-13T16:50:11.000Z</td>\n",
       "      <td>16</td>\n",
       "      <td>2019-09-13</td>\n",
       "      <td>9</td>\n",
       "      <td>2019</td>\n",
       "      <td>4</td>\n",
       "      <td>Grindhouse Killer Burgers Downtown Decatur</td>\n",
       "      <td>433 North McDonough St.</td>\n",
       "      <td>Atlanta</td>\n",
       "      <td>Georgia</td>\n",
       "      <td>30030</td>\n",
       "    </tr>\n",
       "    <tr>\n",
       "      <th>1</th>\n",
       "      <td>53e3a2d8-34ac-43bc-baa6-824ffd210a37</td>\n",
       "      <td>33.746480</td>\n",
       "      <td>-84.364700</td>\n",
       "      <td>5.000000</td>\n",
       "      <td>2019-07-25T19:58:06.000Z</td>\n",
       "      <td>19</td>\n",
       "      <td>2019-07-25</td>\n",
       "      <td>7</td>\n",
       "      <td>2019</td>\n",
       "      <td>3</td>\n",
       "      <td>Grindhouse Killer Burgers On Memorial</td>\n",
       "      <td>701 Memorial Drive</td>\n",
       "      <td>Atlanta</td>\n",
       "      <td>Georgia</td>\n",
       "      <td>30316</td>\n",
       "    </tr>\n",
       "    <tr>\n",
       "      <th>2</th>\n",
       "      <td>53e3a2d8-34ac-43bc-baa6-824ffd210a37</td>\n",
       "      <td>33.746510</td>\n",
       "      <td>-84.364920</td>\n",
       "      <td>6.500000</td>\n",
       "      <td>2019-09-12T13:24:26.000Z</td>\n",
       "      <td>13</td>\n",
       "      <td>2019-09-12</td>\n",
       "      <td>9</td>\n",
       "      <td>2019</td>\n",
       "      <td>3</td>\n",
       "      <td>Grindhouse Killer Burgers On Memorial</td>\n",
       "      <td>701 Memorial Drive</td>\n",
       "      <td>Atlanta</td>\n",
       "      <td>Georgia</td>\n",
       "      <td>30316</td>\n",
       "    </tr>\n",
       "    <tr>\n",
       "      <th>3</th>\n",
       "      <td>88d6ffa0-c858-4195-8a29-c59e592320ee</td>\n",
       "      <td>33.753904</td>\n",
       "      <td>-84.379984</td>\n",
       "      <td>6.250000</td>\n",
       "      <td>2019-12-16T11:24:01.000Z</td>\n",
       "      <td>11</td>\n",
       "      <td>2019-12-16</td>\n",
       "      <td>12</td>\n",
       "      <td>2019</td>\n",
       "      <td>1</td>\n",
       "      <td>Grindhouse Killer Burgers Sweet Auburn Curb Ma...</td>\n",
       "      <td>209 Edgewood Ave</td>\n",
       "      <td>Atlanta</td>\n",
       "      <td>Georgia</td>\n",
       "      <td>30303</td>\n",
       "    </tr>\n",
       "    <tr>\n",
       "      <th>4</th>\n",
       "      <td>b0501a91-8f8d-45d9-8ecd-222cdd4f34f3</td>\n",
       "      <td>33.754220</td>\n",
       "      <td>-84.380410</td>\n",
       "      <td>5.083333</td>\n",
       "      <td>2019-03-24T15:18:28.000Z</td>\n",
       "      <td>15</td>\n",
       "      <td>2019-03-24</td>\n",
       "      <td>3</td>\n",
       "      <td>2019</td>\n",
       "      <td>1</td>\n",
       "      <td>Grindhouse Killer Burgers Sweet Auburn Curb Ma...</td>\n",
       "      <td>209 Edgewood Ave</td>\n",
       "      <td>Atlanta</td>\n",
       "      <td>Georgia</td>\n",
       "      <td>30303</td>\n",
       "    </tr>\n",
       "  </tbody>\n",
       "</table>\n",
       "</div>"
      ],
      "text/plain": [
       "                                   maid  event_latitude  event_longitude  \\\n",
       "0  731529ae-9707-402b-96fe-81d5d0308a67       33.772830       -84.296380   \n",
       "1  53e3a2d8-34ac-43bc-baa6-824ffd210a37       33.746480       -84.364700   \n",
       "2  53e3a2d8-34ac-43bc-baa6-824ffd210a37       33.746510       -84.364920   \n",
       "3  88d6ffa0-c858-4195-8a29-c59e592320ee       33.753904       -84.379984   \n",
       "4  b0501a91-8f8d-45d9-8ecd-222cdd4f34f3       33.754220       -84.380410   \n",
       "\n",
       "   event_dwell_time           event_timestamp  event_hour  event_date  \\\n",
       "0          5.866667  2019-09-13T16:50:11.000Z          16  2019-09-13   \n",
       "1          5.000000  2019-07-25T19:58:06.000Z          19  2019-07-25   \n",
       "2          6.500000  2019-09-12T13:24:26.000Z          13  2019-09-12   \n",
       "3          6.250000  2019-12-16T11:24:01.000Z          11  2019-12-16   \n",
       "4          5.083333  2019-03-24T15:18:28.000Z          15  2019-03-24   \n",
       "\n",
       "   event_month  event_year  venue_id  \\\n",
       "0            9        2019         4   \n",
       "1            7        2019         3   \n",
       "2            9        2019         3   \n",
       "3           12        2019         1   \n",
       "4            3        2019         1   \n",
       "\n",
       "                                          venue_name             venue_street  \\\n",
       "0         Grindhouse Killer Burgers Downtown Decatur  433 North McDonough St.   \n",
       "1              Grindhouse Killer Burgers On Memorial       701 Memorial Drive   \n",
       "2              Grindhouse Killer Burgers On Memorial       701 Memorial Drive   \n",
       "3  Grindhouse Killer Burgers Sweet Auburn Curb Ma...         209 Edgewood Ave   \n",
       "4  Grindhouse Killer Burgers Sweet Auburn Curb Ma...         209 Edgewood Ave   \n",
       "\n",
       "  venue_city venue_state  venue_zip  \n",
       "0    Atlanta     Georgia      30030  \n",
       "1    Atlanta     Georgia      30316  \n",
       "2    Atlanta     Georgia      30316  \n",
       "3    Atlanta     Georgia      30303  \n",
       "4    Atlanta     Georgia      30303  "
      ]
     },
     "execution_count": 22,
     "metadata": {},
     "output_type": "execute_result"
    }
   ],
   "source": [
    "grindhouse_visitors.head()"
   ]
  },
  {
   "cell_type": "code",
   "execution_count": 23,
   "metadata": {},
   "outputs": [
    {
     "data": {
      "text/plain": [
       "array(['Grindhouse Killer Burgers Downtown Decatur',\n",
       "       'Grindhouse Killer Burgers On Memorial',\n",
       "       'Grindhouse Killer Burgers Sweet Auburn Curb Market',\n",
       "       'Grindhouse Killer Burgers On Piedmont'], dtype=object)"
      ]
     },
     "execution_count": 23,
     "metadata": {},
     "output_type": "execute_result"
    }
   ],
   "source": [
    "grindhouse_visitors.venue_name.unique()"
   ]
  },
  {
   "cell_type": "code",
   "execution_count": 24,
   "metadata": {},
   "outputs": [
    {
     "data": {
      "text/html": [
       "<div>\n",
       "<style scoped>\n",
       "    .dataframe tbody tr th:only-of-type {\n",
       "        vertical-align: middle;\n",
       "    }\n",
       "\n",
       "    .dataframe tbody tr th {\n",
       "        vertical-align: top;\n",
       "    }\n",
       "\n",
       "    .dataframe thead th {\n",
       "        text-align: right;\n",
       "    }\n",
       "</style>\n",
       "<table border=\"1\" class=\"dataframe\">\n",
       "  <thead>\n",
       "    <tr style=\"text-align: right;\">\n",
       "      <th></th>\n",
       "      <th>maid</th>\n",
       "      <th>utc_timestamp</th>\n",
       "      <th>utc_date</th>\n",
       "      <th>poi_name</th>\n",
       "      <th>poi_categories</th>\n",
       "      <th>poi_street</th>\n",
       "      <th>poi_city</th>\n",
       "      <th>poi_state</th>\n",
       "      <th>poi_zip</th>\n",
       "      <th>poi_latitude</th>\n",
       "      <th>poi_longitude</th>\n",
       "      <th>poi_timezone</th>\n",
       "      <th>match_confidence</th>\n",
       "      <th>brand_name</th>\n",
       "      <th>brand_confidence</th>\n",
       "      <th>dwell_time</th>\n",
       "      <th>poi_geohash_10</th>\n",
       "      <th>mogean_poi_id</th>\n",
       "      <th>poi_name_contains_grindhouse</th>\n",
       "      <th>categories_contain_burger</th>\n",
       "    </tr>\n",
       "  </thead>\n",
       "  <tbody>\n",
       "    <tr>\n",
       "      <th>0</th>\n",
       "      <td>e296b820-1bbb-4289-a25c-73f43253de74</td>\n",
       "      <td>2019-08-23T17:11:47.000Z</td>\n",
       "      <td>2019-08-23</td>\n",
       "      <td>The Gathering Spot</td>\n",
       "      <td>arts:socialclubs</td>\n",
       "      <td>384 NORTHYARDS BLVD NW STE 190</td>\n",
       "      <td>ATLANTA</td>\n",
       "      <td>GA</td>\n",
       "      <td>30313</td>\n",
       "      <td>33.767271</td>\n",
       "      <td>-84.400186</td>\n",
       "      <td>America/New_York</td>\n",
       "      <td>0.575566</td>\n",
       "      <td>NaN</td>\n",
       "      <td>NaN</td>\n",
       "      <td>18.483334</td>\n",
       "      <td>dn5bp7jst5</td>\n",
       "      <td>3249327ce671a899e9c1</td>\n",
       "      <td>False</td>\n",
       "      <td>False</td>\n",
       "    </tr>\n",
       "    <tr>\n",
       "      <th>1</th>\n",
       "      <td>0d90af1b-896d-442f-a1a6-7e793821a042</td>\n",
       "      <td>2019-09-24T17:40:59.000Z</td>\n",
       "      <td>2019-09-24</td>\n",
       "      <td>J Patrick Posey DDS</td>\n",
       "      <td>health:dentists:generaldentistry:cosmeticdentists</td>\n",
       "      <td>3495 PIEDMONT RD TEN PIEDMONT CENTER STE 120</td>\n",
       "      <td>ATLANTA</td>\n",
       "      <td>GA</td>\n",
       "      <td>30305</td>\n",
       "      <td>33.852597</td>\n",
       "      <td>-84.375436</td>\n",
       "      <td>America/New_York</td>\n",
       "      <td>0.647371</td>\n",
       "      <td>NaN</td>\n",
       "      <td>NaN</td>\n",
       "      <td>224.199997</td>\n",
       "      <td>dn5bxfxttv</td>\n",
       "      <td>aa0194384ea466545949</td>\n",
       "      <td>False</td>\n",
       "      <td>False</td>\n",
       "    </tr>\n",
       "    <tr>\n",
       "      <th>2</th>\n",
       "      <td>7386b790-811a-40e9-b28b-c059dcb14355</td>\n",
       "      <td>2019-08-14T19:43:59.000Z</td>\n",
       "      <td>2019-08-14</td>\n",
       "      <td>Candler Park Tennis Courts</td>\n",
       "      <td>active:tennis</td>\n",
       "      <td>585 CANDLER PARK DR NE</td>\n",
       "      <td>ATLANTA</td>\n",
       "      <td>GA</td>\n",
       "      <td>30307</td>\n",
       "      <td>33.766481</td>\n",
       "      <td>-84.336269</td>\n",
       "      <td>America/New_York</td>\n",
       "      <td>0.827665</td>\n",
       "      <td>NaN</td>\n",
       "      <td>NaN</td>\n",
       "      <td>9.816667</td>\n",
       "      <td>dnh00gh0n2</td>\n",
       "      <td>37dea73fa56712104d2c</td>\n",
       "      <td>False</td>\n",
       "      <td>False</td>\n",
       "    </tr>\n",
       "    <tr>\n",
       "      <th>3</th>\n",
       "      <td>b60a5c98-2e70-4ca0-9648-716c29fe0436</td>\n",
       "      <td>2019-08-17T22:46:34.000Z</td>\n",
       "      <td>2019-08-17</td>\n",
       "      <td>Candler Park Tennis Courts</td>\n",
       "      <td>active:tennis</td>\n",
       "      <td>585 CANDLER PARK DR NE</td>\n",
       "      <td>ATLANTA</td>\n",
       "      <td>GA</td>\n",
       "      <td>30307</td>\n",
       "      <td>33.766481</td>\n",
       "      <td>-84.336269</td>\n",
       "      <td>America/New_York</td>\n",
       "      <td>0.827665</td>\n",
       "      <td>NaN</td>\n",
       "      <td>NaN</td>\n",
       "      <td>NaN</td>\n",
       "      <td>dnh00gh0n2</td>\n",
       "      <td>37dea73fa56712104d2c</td>\n",
       "      <td>False</td>\n",
       "      <td>False</td>\n",
       "    </tr>\n",
       "    <tr>\n",
       "      <th>4</th>\n",
       "      <td>76a1e5cd-1374-4128-8c87-01d315781a43</td>\n",
       "      <td>2019-09-03T16:13:06.000Z</td>\n",
       "      <td>2019-09-03</td>\n",
       "      <td>Miguel Tan MD</td>\n",
       "      <td>health:physicians:surgeons</td>\n",
       "      <td>1968 PEACHTREE RD</td>\n",
       "      <td>ATLANTA</td>\n",
       "      <td>GA</td>\n",
       "      <td>30309</td>\n",
       "      <td>33.808922</td>\n",
       "      <td>-84.395020</td>\n",
       "      <td>America/New_York</td>\n",
       "      <td>0.673794</td>\n",
       "      <td>NaN</td>\n",
       "      <td>NaN</td>\n",
       "      <td>152.983337</td>\n",
       "      <td>dn5brd9rjx</td>\n",
       "      <td>078c3a63b219215b16a5</td>\n",
       "      <td>False</td>\n",
       "      <td>False</td>\n",
       "    </tr>\n",
       "  </tbody>\n",
       "</table>\n",
       "</div>"
      ],
      "text/plain": [
       "                                   maid             utc_timestamp    utc_date  \\\n",
       "0  e296b820-1bbb-4289-a25c-73f43253de74  2019-08-23T17:11:47.000Z  2019-08-23   \n",
       "1  0d90af1b-896d-442f-a1a6-7e793821a042  2019-09-24T17:40:59.000Z  2019-09-24   \n",
       "2  7386b790-811a-40e9-b28b-c059dcb14355  2019-08-14T19:43:59.000Z  2019-08-14   \n",
       "3  b60a5c98-2e70-4ca0-9648-716c29fe0436  2019-08-17T22:46:34.000Z  2019-08-17   \n",
       "4  76a1e5cd-1374-4128-8c87-01d315781a43  2019-09-03T16:13:06.000Z  2019-09-03   \n",
       "\n",
       "                     poi_name  \\\n",
       "0          The Gathering Spot   \n",
       "1         J Patrick Posey DDS   \n",
       "2  Candler Park Tennis Courts   \n",
       "3  Candler Park Tennis Courts   \n",
       "4               Miguel Tan MD   \n",
       "\n",
       "                                      poi_categories  \\\n",
       "0                                   arts:socialclubs   \n",
       "1  health:dentists:generaldentistry:cosmeticdentists   \n",
       "2                                      active:tennis   \n",
       "3                                      active:tennis   \n",
       "4                         health:physicians:surgeons   \n",
       "\n",
       "                                     poi_street poi_city poi_state  poi_zip  \\\n",
       "0                384 NORTHYARDS BLVD NW STE 190  ATLANTA        GA    30313   \n",
       "1  3495 PIEDMONT RD TEN PIEDMONT CENTER STE 120  ATLANTA        GA    30305   \n",
       "2                        585 CANDLER PARK DR NE  ATLANTA        GA    30307   \n",
       "3                        585 CANDLER PARK DR NE  ATLANTA        GA    30307   \n",
       "4                             1968 PEACHTREE RD  ATLANTA        GA    30309   \n",
       "\n",
       "   poi_latitude  poi_longitude      poi_timezone  match_confidence brand_name  \\\n",
       "0     33.767271     -84.400186  America/New_York          0.575566        NaN   \n",
       "1     33.852597     -84.375436  America/New_York          0.647371        NaN   \n",
       "2     33.766481     -84.336269  America/New_York          0.827665        NaN   \n",
       "3     33.766481     -84.336269  America/New_York          0.827665        NaN   \n",
       "4     33.808922     -84.395020  America/New_York          0.673794        NaN   \n",
       "\n",
       "   brand_confidence  dwell_time poi_geohash_10         mogean_poi_id  \\\n",
       "0               NaN   18.483334     dn5bp7jst5  3249327ce671a899e9c1   \n",
       "1               NaN  224.199997     dn5bxfxttv  aa0194384ea466545949   \n",
       "2               NaN    9.816667     dnh00gh0n2  37dea73fa56712104d2c   \n",
       "3               NaN         NaN     dnh00gh0n2  37dea73fa56712104d2c   \n",
       "4               NaN  152.983337     dn5brd9rjx  078c3a63b219215b16a5   \n",
       "\n",
       "   poi_name_contains_grindhouse  categories_contain_burger  \n",
       "0                         False                      False  \n",
       "1                         False                      False  \n",
       "2                         False                      False  \n",
       "3                         False                      False  \n",
       "4                         False                      False  "
      ]
     },
     "execution_count": 24,
     "metadata": {},
     "output_type": "execute_result"
    }
   ],
   "source": [
    "all_visitors.head()"
   ]
  },
  {
   "cell_type": "code",
   "execution_count": 25,
   "metadata": {},
   "outputs": [
    {
     "data": {
      "text/plain": [
       "(182866, 15)"
      ]
     },
     "execution_count": 25,
     "metadata": {},
     "output_type": "execute_result"
    }
   ],
   "source": [
    "grindhouse_visitors.shape"
   ]
  },
  {
   "cell_type": "code",
   "execution_count": 26,
   "metadata": {},
   "outputs": [
    {
     "data": {
      "text/plain": [
       "Index(['maid', 'event_latitude', 'event_longitude', 'event_dwell_time',\n",
       "       'event_timestamp', 'event_hour', 'event_date', 'event_month',\n",
       "       'event_year', 'venue_id', 'venue_name', 'venue_street', 'venue_city',\n",
       "       'venue_state', 'venue_zip'],\n",
       "      dtype='object')"
      ]
     },
     "execution_count": 26,
     "metadata": {},
     "output_type": "execute_result"
    }
   ],
   "source": [
    "grindhouse_visitors.columns"
   ]
  },
  {
   "cell_type": "code",
   "execution_count": 27,
   "metadata": {},
   "outputs": [
    {
     "data": {
      "text/plain": [
       "(9789106, 20)"
      ]
     },
     "execution_count": 27,
     "metadata": {},
     "output_type": "execute_result"
    }
   ],
   "source": [
    "all_visitors.shape"
   ]
  },
  {
   "cell_type": "code",
   "execution_count": 28,
   "metadata": {},
   "outputs": [
    {
     "data": {
      "text/plain": [
       "Index(['maid', 'utc_timestamp', 'utc_date', 'poi_name', 'poi_categories',\n",
       "       'poi_street', 'poi_city', 'poi_state', 'poi_zip', 'poi_latitude',\n",
       "       'poi_longitude', 'poi_timezone', 'match_confidence', 'brand_name',\n",
       "       'brand_confidence', 'dwell_time', 'poi_geohash_10', 'mogean_poi_id',\n",
       "       'poi_name_contains_grindhouse', 'categories_contain_burger'],\n",
       "      dtype='object')"
      ]
     },
     "execution_count": 28,
     "metadata": {},
     "output_type": "execute_result"
    }
   ],
   "source": [
    "all_visitors.columns"
   ]
  },
  {
   "cell_type": "code",
   "execution_count": 29,
   "metadata": {},
   "outputs": [
    {
     "data": {
      "text/plain": [
       "(25699,)"
      ]
     },
     "execution_count": 29,
     "metadata": {},
     "output_type": "execute_result"
    }
   ],
   "source": [
    "grindhouse_maids=grindhouse_visitors.maid.unique()\n",
    "grindhouse_maids.shape"
   ]
  },
  {
   "cell_type": "code",
   "execution_count": 30,
   "metadata": {},
   "outputs": [
    {
     "data": {
      "text/plain": [
       "numpy.ndarray"
      ]
     },
     "execution_count": 30,
     "metadata": {},
     "output_type": "execute_result"
    }
   ],
   "source": [
    "type(grindhouse_maids)"
   ]
  },
  {
   "cell_type": "code",
   "execution_count": 31,
   "metadata": {},
   "outputs": [
    {
     "ename": "SyntaxError",
     "evalue": "invalid syntax (<ipython-input-31-2fb526861f66>, line 1)",
     "output_type": "error",
     "traceback": [
      "\u001b[1;36m  File \u001b[1;32m\"<ipython-input-31-2fb526861f66>\"\u001b[1;36m, line \u001b[1;32m1\u001b[0m\n\u001b[1;33m    all_visitors['matched']=np.where(df.maid ==)\u001b[0m\n\u001b[1;37m                                               ^\u001b[0m\n\u001b[1;31mSyntaxError\u001b[0m\u001b[1;31m:\u001b[0m invalid syntax\n"
     ]
    }
   ],
   "source": [
    "all_visitors['matched']=np.where(df.maid ==)"
   ]
  },
  {
   "cell_type": "code",
   "execution_count": 32,
   "metadata": {},
   "outputs": [],
   "source": [
    "grindhouse_POI = all_visitors[all_visitors['maid'].isin(grindhouse_maids)].copy()"
   ]
  },
  {
   "cell_type": "code",
   "execution_count": 33,
   "metadata": {},
   "outputs": [
    {
     "data": {
      "text/plain": [
       "(1464292, 20)"
      ]
     },
     "execution_count": 33,
     "metadata": {},
     "output_type": "execute_result"
    }
   ],
   "source": [
    "grindhouse_POI.shape"
   ]
  },
  {
   "cell_type": "code",
   "execution_count": 34,
   "metadata": {},
   "outputs": [
    {
     "data": {
      "text/plain": [
       "2136"
      ]
     },
     "execution_count": 34,
     "metadata": {},
     "output_type": "execute_result"
    }
   ],
   "source": [
    "grindhouse_POI.maid.nunique()"
   ]
  },
  {
   "cell_type": "markdown",
   "metadata": {},
   "source": [
    "# ^ 2136 maids to work with, and our dataset is grindhouse_POI"
   ]
  },
  {
   "cell_type": "code",
   "execution_count": 35,
   "metadata": {},
   "outputs": [
    {
     "name": "stderr",
     "output_type": "stream",
     "text": [
      "C:\\Users\\kinka\\Anaconda3\\lib\\site-packages\\ipykernel_launcher.py:2: FutureWarning: The signature of `Series.to_csv` was aligned to that of `DataFrame.to_csv`, and argument 'header' will change its default value from False to True: please pass an explicit value to suppress this warning.\n",
      "  \n"
     ]
    },
    {
     "data": {
      "text/plain": [
       "fbcdd958-7fdc-4b16-8284-3fb067fdbd3e    12872\n",
       "83131889-6cd8-4eb0-b467-bb8e7d35c5cf    12496\n",
       "c3f4fb33-1b31-44ef-bc36-3231d3193031    12437\n",
       "011276f2-e019-4d80-aa75-a8471f41321f    10740\n",
       "b699e883-3d83-4a1e-9104-1f395beffc22    10148\n",
       "Name: maid, dtype: int64"
      ]
     },
     "execution_count": 35,
     "metadata": {},
     "output_type": "execute_result"
    }
   ],
   "source": [
    "maid_observation_counts = grindhouse_POI.maid.value_counts()\n",
    "maid_observation_counts.to_csv('maid_observation_counts.csv')\n",
    "maid_observation_counts.head()"
   ]
  },
  {
   "cell_type": "code",
   "execution_count": 36,
   "metadata": {},
   "outputs": [
    {
     "data": {
      "text/plain": [
       "722.5"
      ]
     },
     "execution_count": 36,
     "metadata": {},
     "output_type": "execute_result"
    }
   ],
   "source": [
    "np.percentile(maid_observation_counts.values,75)"
   ]
  },
  {
   "cell_type": "code",
   "execution_count": 37,
   "metadata": {},
   "outputs": [
    {
     "data": {
      "text/plain": [
       "DescribeResult(nobs=2136, minmax=(1, 12872), mean=685.5299625468165, variance=1407592.8356357832, skewness=4.49439257303232, kurtosis=28.33592418054205)"
      ]
     },
     "execution_count": 37,
     "metadata": {},
     "output_type": "execute_result"
    }
   ],
   "source": [
    "stats.describe(maid_observation_counts.values)"
   ]
  },
  {
   "cell_type": "code",
   "execution_count": 38,
   "metadata": {},
   "outputs": [
    {
     "data": {
      "text/plain": [
       "(25699,)"
      ]
     },
     "execution_count": 38,
     "metadata": {},
     "output_type": "execute_result"
    }
   ],
   "source": [
    "grindhouse_maids.shape"
   ]
  },
  {
   "cell_type": "code",
   "execution_count": 39,
   "metadata": {},
   "outputs": [
    {
     "data": {
      "text/plain": [
       "(89403,)"
      ]
     },
     "execution_count": 39,
     "metadata": {},
     "output_type": "execute_result"
    }
   ],
   "source": [
    "all_visitors_maids = all_visitors.maid.unique()\n",
    "all_visitors_maids.shape"
   ]
  },
  {
   "cell_type": "code",
   "execution_count": null,
   "metadata": {},
   "outputs": [],
   "source": []
  },
  {
   "cell_type": "code",
   "execution_count": 40,
   "metadata": {},
   "outputs": [],
   "source": [
    "#all_visitors_maids = all_visitors.maid.unique().reshape((1,-1))\n",
    "#grindhouse_maids.reshape((1,-1))\n",
    "check1 = np.concatenate((grindhouse_maids,all_visitors_maids))"
   ]
  },
  {
   "cell_type": "code",
   "execution_count": 41,
   "metadata": {},
   "outputs": [
    {
     "data": {
      "text/plain": [
       "112966"
      ]
     },
     "execution_count": 41,
     "metadata": {},
     "output_type": "execute_result"
    }
   ],
   "source": [
    "np.unique(check1).size\n",
    "#This should be equal to grindhouse_POI.maid.nunique() ---which is 2136"
   ]
  },
  {
   "cell_type": "code",
   "execution_count": 42,
   "metadata": {},
   "outputs": [],
   "source": [
    "grindhouse_POI[['cat1','cat2','cat3']] = grindhouse_POI.poi_categories.str.split(\":\",n=2,expand=True)"
   ]
  },
  {
   "cell_type": "code",
   "execution_count": 43,
   "metadata": {},
   "outputs": [],
   "source": [
    "cat1_counts = grindhouse_POI.cat1.value_counts()"
   ]
  },
  {
   "cell_type": "code",
   "execution_count": 44,
   "metadata": {},
   "outputs": [
    {
     "data": {
      "text/plain": [
       "restaurants           266176\n",
       "health                252359\n",
       "shopping              168977\n",
       "beautysvc             168617\n",
       "active                112844\n",
       "food                   98420\n",
       "financialservices      94624\n",
       "hotelstravel           48896\n",
       "pets                   39802\n",
       "convenience            37026\n",
       "nightlife              36610\n",
       "arts                   33575\n",
       "fashion                22148\n",
       "grocery                18761\n",
       "fitness                18392\n",
       "homeandgarden          13017\n",
       "hotels                  7426\n",
       "gourmet                 6058\n",
       "donuts                  4528\n",
       "icecream                3444\n",
       "vapeshops               2171\n",
       "juicebars               1759\n",
       "bakeries                1746\n",
       "discountstore           1652\n",
       "spas                     901\n",
       "chickenshop              803\n",
       "bbq                      487\n",
       "hotdog                   453\n",
       "shoppingcenters          381\n",
       "barbers                  311\n",
       "othersalons              268\n",
       "theater                  234\n",
       "movietheaters            224\n",
       "outdoorgear              217\n",
       "artsandcrafts            216\n",
       "pilates                  185\n",
       "scandinavian             177\n",
       "beerandwine              164\n",
       "sportgoods                75\n",
       "musicvenues               35\n",
       "parks                     32\n",
       "batterystores             31\n",
       "sharedofficespaces        29\n",
       "pretzels                  19\n",
       "glutenfree                13\n",
       "antiques                   5\n",
       "falafel                    4\n",
       "Name: cat1, dtype: int64"
      ]
     },
     "execution_count": 44,
     "metadata": {},
     "output_type": "execute_result"
    }
   ],
   "source": [
    "cat1_counts"
   ]
  },
  {
   "cell_type": "code",
   "execution_count": 45,
   "metadata": {},
   "outputs": [
    {
     "data": {
      "text/plain": [
       "pandas.core.series.Series"
      ]
     },
     "execution_count": 45,
     "metadata": {},
     "output_type": "execute_result"
    }
   ],
   "source": [
    "type(cat1_counts)"
   ]
  },
  {
   "cell_type": "code",
   "execution_count": 46,
   "metadata": {},
   "outputs": [
    {
     "name": "stderr",
     "output_type": "stream",
     "text": [
      "C:\\Users\\kinka\\Anaconda3\\lib\\site-packages\\ipykernel_launcher.py:1: FutureWarning: The signature of `Series.to_csv` was aligned to that of `DataFrame.to_csv`, and argument 'header' will change its default value from False to True: please pass an explicit value to suppress this warning.\n",
      "  \"\"\"Entry point for launching an IPython kernel.\n"
     ]
    }
   ],
   "source": [
    "cat1_counts.to_csv('cat1_counts.csv')"
   ]
  },
  {
   "cell_type": "code",
   "execution_count": 47,
   "metadata": {},
   "outputs": [
    {
     "data": {
      "image/png": "[encoded data removed]",
      "text/plain": [
       "<Figure size 432x288 with 1 Axes>"
      ]
     },
     "metadata": {
      "needs_background": "light"
     },
     "output_type": "display_data"
    }
   ],
   "source": [
    "plt.scatter(cat1_counts.values, cat1_counts.index, alpha=0.9)\n",
    "\n",
    "plt.rcParams[\"figure.figsize\"] = [10,20]\n",
    "plt.gca().invert_yaxis()\n",
    "\n",
    "plt.savefig('plot2.png',dpi=100)"
   ]
  },
  {
   "cell_type": "code",
   "execution_count": 48,
   "metadata": {},
   "outputs": [],
   "source": [
    "cat2items=grindhouse_POI[grindhouse_POI['cat1']=='restaurants']['cat2']"
   ]
  },
  {
   "cell_type": "code",
   "execution_count": 49,
   "metadata": {},
   "outputs": [
    {
     "name": "stderr",
     "output_type": "stream",
     "text": [
      "C:\\Users\\kinka\\Anaconda3\\lib\\site-packages\\ipykernel_launcher.py:2: FutureWarning: The signature of `Series.to_csv` was aligned to that of `DataFrame.to_csv`, and argument 'header' will change its default value from False to True: please pass an explicit value to suppress this warning.\n",
      "  \n"
     ]
    }
   ],
   "source": [
    "cat2counts = cat2items.value_counts()\n",
    "cat2counts.to_csv('cat2_counts.csv')"
   ]
  },
  {
   "cell_type": "code",
   "execution_count": 50,
   "metadata": {},
   "outputs": [
    {
     "data": {
      "image/png": "[encoded data removed]",
      "text/plain": [
       "<Figure size 720x1440 with 1 Axes>"
      ]
     },
     "metadata": {
      "needs_background": "light"
     },
     "output_type": "display_data"
    }
   ],
   "source": [
    "plt.scatter(cat2counts.values, cat2counts.index, alpha=0.9)\n",
    "\n",
    "plt.rcParams[\"figure.figsize\"] = [10,20]\n",
    "plt.gca().invert_yaxis()\n",
    "\n",
    "plt.savefig('plot3.png',dpi=100)"
   ]
  },
  {
   "cell_type": "code",
   "execution_count": 51,
   "metadata": {},
   "outputs": [
    {
     "data": {
      "text/plain": [
       "'newamerican'"
      ]
     },
     "execution_count": 51,
     "metadata": {},
     "output_type": "execute_result"
    }
   ],
   "source": [
    "cat2items[33]"
   ]
  },
  {
   "cell_type": "code",
   "execution_count": null,
   "metadata": {},
   "outputs": [],
   "source": []
  }
 ],
 "metadata": {
  "kernelspec": {
   "display_name": "Python 3",
   "language": "python",
   "name": "python3"
  },
  "language_info": {
   "codemirror_mode": {
    "name": "ipython",
    "version": 3
   },
   "file_extension": ".py",
   "mimetype": "text/x-python",
   "name": "python",
   "nbconvert_exporter": "python",
   "pygments_lexer": "ipython3",
   "version": "3.7.3"
  }
 },
 "nbformat": 4,
 "nbformat_minor": 2
}
